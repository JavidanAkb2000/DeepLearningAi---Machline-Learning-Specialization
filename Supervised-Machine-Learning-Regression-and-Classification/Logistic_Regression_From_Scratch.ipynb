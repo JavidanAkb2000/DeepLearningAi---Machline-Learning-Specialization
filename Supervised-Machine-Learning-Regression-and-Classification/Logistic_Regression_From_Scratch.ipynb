{
  "nbformat": 4,
  "nbformat_minor": 0,
  "metadata": {
    "colab": {
      "provenance": []
    },
    "kernelspec": {
      "name": "python3",
      "display_name": "Python 3"
    },
    "language_info": {
      "name": "python"
    }
  },
  "cells": [
    {
      "cell_type": "code",
      "source": [
        "import numpy as np\n",
        "import pandas as pd"
      ],
      "metadata": {
        "id": "1x8uh-t6_Mbn"
      },
      "execution_count": 17,
      "outputs": []
    },
    {
      "cell_type": "code",
      "source": [
        "# Load the data\n",
        "df = pd.read_csv('heart_disease.csv')\n",
        "df.head()"
      ],
      "metadata": {
        "colab": {
          "base_uri": "https://localhost:8080/",
          "height": 206
        },
        "id": "4GnIVHZ-BgTb",
        "outputId": "029d568c-45d1-4359-be07-b35f3c729921"
      },
      "execution_count": 18,
      "outputs": [
        {
          "output_type": "execute_result",
          "data": {
            "text/plain": [
              "   age  cholesterol  has_heart_disease\n",
              "0   68          158                  0\n",
              "1   58          237                  0\n",
              "2   44          278                  0\n",
              "3   72          285                  0\n",
              "4   37          212                  0"
            ],
            "text/html": [
              "\n",
              "  <div id=\"df-31524592-173b-4ab0-85f7-6179b5c205ab\" class=\"colab-df-container\">\n",
              "    <div>\n",
              "<style scoped>\n",
              "    .dataframe tbody tr th:only-of-type {\n",
              "        vertical-align: middle;\n",
              "    }\n",
              "\n",
              "    .dataframe tbody tr th {\n",
              "        vertical-align: top;\n",
              "    }\n",
              "\n",
              "    .dataframe thead th {\n",
              "        text-align: right;\n",
              "    }\n",
              "</style>\n",
              "<table border=\"1\" class=\"dataframe\">\n",
              "  <thead>\n",
              "    <tr style=\"text-align: right;\">\n",
              "      <th></th>\n",
              "      <th>age</th>\n",
              "      <th>cholesterol</th>\n",
              "      <th>has_heart_disease</th>\n",
              "    </tr>\n",
              "  </thead>\n",
              "  <tbody>\n",
              "    <tr>\n",
              "      <th>0</th>\n",
              "      <td>68</td>\n",
              "      <td>158</td>\n",
              "      <td>0</td>\n",
              "    </tr>\n",
              "    <tr>\n",
              "      <th>1</th>\n",
              "      <td>58</td>\n",
              "      <td>237</td>\n",
              "      <td>0</td>\n",
              "    </tr>\n",
              "    <tr>\n",
              "      <th>2</th>\n",
              "      <td>44</td>\n",
              "      <td>278</td>\n",
              "      <td>0</td>\n",
              "    </tr>\n",
              "    <tr>\n",
              "      <th>3</th>\n",
              "      <td>72</td>\n",
              "      <td>285</td>\n",
              "      <td>0</td>\n",
              "    </tr>\n",
              "    <tr>\n",
              "      <th>4</th>\n",
              "      <td>37</td>\n",
              "      <td>212</td>\n",
              "      <td>0</td>\n",
              "    </tr>\n",
              "  </tbody>\n",
              "</table>\n",
              "</div>\n",
              "    <div class=\"colab-df-buttons\">\n",
              "\n",
              "  <div class=\"colab-df-container\">\n",
              "    <button class=\"colab-df-convert\" onclick=\"convertToInteractive('df-31524592-173b-4ab0-85f7-6179b5c205ab')\"\n",
              "            title=\"Convert this dataframe to an interactive table.\"\n",
              "            style=\"display:none;\">\n",
              "\n",
              "  <svg xmlns=\"http://www.w3.org/2000/svg\" height=\"24px\" viewBox=\"0 -960 960 960\">\n",
              "    <path d=\"M120-120v-720h720v720H120Zm60-500h600v-160H180v160Zm220 220h160v-160H400v160Zm0 220h160v-160H400v160ZM180-400h160v-160H180v160Zm440 0h160v-160H620v160ZM180-180h160v-160H180v160Zm440 0h160v-160H620v160Z\"/>\n",
              "  </svg>\n",
              "    </button>\n",
              "\n",
              "  <style>\n",
              "    .colab-df-container {\n",
              "      display:flex;\n",
              "      gap: 12px;\n",
              "    }\n",
              "\n",
              "    .colab-df-convert {\n",
              "      background-color: #E8F0FE;\n",
              "      border: none;\n",
              "      border-radius: 50%;\n",
              "      cursor: pointer;\n",
              "      display: none;\n",
              "      fill: #1967D2;\n",
              "      height: 32px;\n",
              "      padding: 0 0 0 0;\n",
              "      width: 32px;\n",
              "    }\n",
              "\n",
              "    .colab-df-convert:hover {\n",
              "      background-color: #E2EBFA;\n",
              "      box-shadow: 0px 1px 2px rgba(60, 64, 67, 0.3), 0px 1px 3px 1px rgba(60, 64, 67, 0.15);\n",
              "      fill: #174EA6;\n",
              "    }\n",
              "\n",
              "    .colab-df-buttons div {\n",
              "      margin-bottom: 4px;\n",
              "    }\n",
              "\n",
              "    [theme=dark] .colab-df-convert {\n",
              "      background-color: #3B4455;\n",
              "      fill: #D2E3FC;\n",
              "    }\n",
              "\n",
              "    [theme=dark] .colab-df-convert:hover {\n",
              "      background-color: #434B5C;\n",
              "      box-shadow: 0px 1px 3px 1px rgba(0, 0, 0, 0.15);\n",
              "      filter: drop-shadow(0px 1px 2px rgba(0, 0, 0, 0.3));\n",
              "      fill: #FFFFFF;\n",
              "    }\n",
              "  </style>\n",
              "\n",
              "    <script>\n",
              "      const buttonEl =\n",
              "        document.querySelector('#df-31524592-173b-4ab0-85f7-6179b5c205ab button.colab-df-convert');\n",
              "      buttonEl.style.display =\n",
              "        google.colab.kernel.accessAllowed ? 'block' : 'none';\n",
              "\n",
              "      async function convertToInteractive(key) {\n",
              "        const element = document.querySelector('#df-31524592-173b-4ab0-85f7-6179b5c205ab');\n",
              "        const dataTable =\n",
              "          await google.colab.kernel.invokeFunction('convertToInteractive',\n",
              "                                                    [key], {});\n",
              "        if (!dataTable) return;\n",
              "\n",
              "        const docLinkHtml = 'Like what you see? Visit the ' +\n",
              "          '<a target=\"_blank\" href=https://colab.research.google.com/notebooks/data_table.ipynb>data table notebook</a>'\n",
              "          + ' to learn more about interactive tables.';\n",
              "        element.innerHTML = '';\n",
              "        dataTable['output_type'] = 'display_data';\n",
              "        await google.colab.output.renderOutput(dataTable, element);\n",
              "        const docLink = document.createElement('div');\n",
              "        docLink.innerHTML = docLinkHtml;\n",
              "        element.appendChild(docLink);\n",
              "      }\n",
              "    </script>\n",
              "  </div>\n",
              "\n",
              "\n",
              "    <div id=\"df-7c94be36-aadb-4300-860f-0da487cee47a\">\n",
              "      <button class=\"colab-df-quickchart\" onclick=\"quickchart('df-7c94be36-aadb-4300-860f-0da487cee47a')\"\n",
              "                title=\"Suggest charts\"\n",
              "                style=\"display:none;\">\n",
              "\n",
              "<svg xmlns=\"http://www.w3.org/2000/svg\" height=\"24px\"viewBox=\"0 0 24 24\"\n",
              "     width=\"24px\">\n",
              "    <g>\n",
              "        <path d=\"M19 3H5c-1.1 0-2 .9-2 2v14c0 1.1.9 2 2 2h14c1.1 0 2-.9 2-2V5c0-1.1-.9-2-2-2zM9 17H7v-7h2v7zm4 0h-2V7h2v10zm4 0h-2v-4h2v4z\"/>\n",
              "    </g>\n",
              "</svg>\n",
              "      </button>\n",
              "\n",
              "<style>\n",
              "  .colab-df-quickchart {\n",
              "      --bg-color: #E8F0FE;\n",
              "      --fill-color: #1967D2;\n",
              "      --hover-bg-color: #E2EBFA;\n",
              "      --hover-fill-color: #174EA6;\n",
              "      --disabled-fill-color: #AAA;\n",
              "      --disabled-bg-color: #DDD;\n",
              "  }\n",
              "\n",
              "  [theme=dark] .colab-df-quickchart {\n",
              "      --bg-color: #3B4455;\n",
              "      --fill-color: #D2E3FC;\n",
              "      --hover-bg-color: #434B5C;\n",
              "      --hover-fill-color: #FFFFFF;\n",
              "      --disabled-bg-color: #3B4455;\n",
              "      --disabled-fill-color: #666;\n",
              "  }\n",
              "\n",
              "  .colab-df-quickchart {\n",
              "    background-color: var(--bg-color);\n",
              "    border: none;\n",
              "    border-radius: 50%;\n",
              "    cursor: pointer;\n",
              "    display: none;\n",
              "    fill: var(--fill-color);\n",
              "    height: 32px;\n",
              "    padding: 0;\n",
              "    width: 32px;\n",
              "  }\n",
              "\n",
              "  .colab-df-quickchart:hover {\n",
              "    background-color: var(--hover-bg-color);\n",
              "    box-shadow: 0 1px 2px rgba(60, 64, 67, 0.3), 0 1px 3px 1px rgba(60, 64, 67, 0.15);\n",
              "    fill: var(--button-hover-fill-color);\n",
              "  }\n",
              "\n",
              "  .colab-df-quickchart-complete:disabled,\n",
              "  .colab-df-quickchart-complete:disabled:hover {\n",
              "    background-color: var(--disabled-bg-color);\n",
              "    fill: var(--disabled-fill-color);\n",
              "    box-shadow: none;\n",
              "  }\n",
              "\n",
              "  .colab-df-spinner {\n",
              "    border: 2px solid var(--fill-color);\n",
              "    border-color: transparent;\n",
              "    border-bottom-color: var(--fill-color);\n",
              "    animation:\n",
              "      spin 1s steps(1) infinite;\n",
              "  }\n",
              "\n",
              "  @keyframes spin {\n",
              "    0% {\n",
              "      border-color: transparent;\n",
              "      border-bottom-color: var(--fill-color);\n",
              "      border-left-color: var(--fill-color);\n",
              "    }\n",
              "    20% {\n",
              "      border-color: transparent;\n",
              "      border-left-color: var(--fill-color);\n",
              "      border-top-color: var(--fill-color);\n",
              "    }\n",
              "    30% {\n",
              "      border-color: transparent;\n",
              "      border-left-color: var(--fill-color);\n",
              "      border-top-color: var(--fill-color);\n",
              "      border-right-color: var(--fill-color);\n",
              "    }\n",
              "    40% {\n",
              "      border-color: transparent;\n",
              "      border-right-color: var(--fill-color);\n",
              "      border-top-color: var(--fill-color);\n",
              "    }\n",
              "    60% {\n",
              "      border-color: transparent;\n",
              "      border-right-color: var(--fill-color);\n",
              "    }\n",
              "    80% {\n",
              "      border-color: transparent;\n",
              "      border-right-color: var(--fill-color);\n",
              "      border-bottom-color: var(--fill-color);\n",
              "    }\n",
              "    90% {\n",
              "      border-color: transparent;\n",
              "      border-bottom-color: var(--fill-color);\n",
              "    }\n",
              "  }\n",
              "</style>\n",
              "\n",
              "      <script>\n",
              "        async function quickchart(key) {\n",
              "          const quickchartButtonEl =\n",
              "            document.querySelector('#' + key + ' button');\n",
              "          quickchartButtonEl.disabled = true;  // To prevent multiple clicks.\n",
              "          quickchartButtonEl.classList.add('colab-df-spinner');\n",
              "          try {\n",
              "            const charts = await google.colab.kernel.invokeFunction(\n",
              "                'suggestCharts', [key], {});\n",
              "          } catch (error) {\n",
              "            console.error('Error during call to suggestCharts:', error);\n",
              "          }\n",
              "          quickchartButtonEl.classList.remove('colab-df-spinner');\n",
              "          quickchartButtonEl.classList.add('colab-df-quickchart-complete');\n",
              "        }\n",
              "        (() => {\n",
              "          let quickchartButtonEl =\n",
              "            document.querySelector('#df-7c94be36-aadb-4300-860f-0da487cee47a button');\n",
              "          quickchartButtonEl.style.display =\n",
              "            google.colab.kernel.accessAllowed ? 'block' : 'none';\n",
              "        })();\n",
              "      </script>\n",
              "    </div>\n",
              "\n",
              "    </div>\n",
              "  </div>\n"
            ],
            "application/vnd.google.colaboratory.intrinsic+json": {
              "type": "dataframe",
              "variable_name": "df",
              "summary": "{\n  \"name\": \"df\",\n  \"rows\": 100,\n  \"fields\": [\n    {\n      \"column\": \"age\",\n      \"properties\": {\n        \"dtype\": \"number\",\n        \"std\": 14,\n        \"min\": 30,\n        \"max\": 79,\n        \"num_unique_values\": 46,\n        \"samples\": [\n          63,\n          45,\n          76\n        ],\n        \"semantic_type\": \"\",\n        \"description\": \"\"\n      }\n    },\n    {\n      \"column\": \"cholesterol\",\n      \"properties\": {\n        \"dtype\": \"number\",\n        \"std\": 43,\n        \"min\": 150,\n        \"max\": 296,\n        \"num_unique_values\": 71,\n        \"samples\": [\n          280,\n          158,\n          277\n        ],\n        \"semantic_type\": \"\",\n        \"description\": \"\"\n      }\n    },\n    {\n      \"column\": \"has_heart_disease\",\n      \"properties\": {\n        \"dtype\": \"number\",\n        \"std\": 0,\n        \"min\": 0,\n        \"max\": 1,\n        \"num_unique_values\": 2,\n        \"samples\": [\n          1,\n          0\n        ],\n        \"semantic_type\": \"\",\n        \"description\": \"\"\n      }\n    }\n  ]\n}"
            }
          },
          "metadata": {},
          "execution_count": 18
        }
      ]
    },
    {
      "cell_type": "code",
      "source": [
        "# Extract features and labels\n",
        "X = df[['age', 'cholesterol']].values ## (100, 2) - 100 rows and 2 cols. to see better just run without `shape` extension\n",
        "y = df['has_heart_disease'].values.reshape(100, 1) # we reshaped it form array to indeed a numpy array. Now it looks like real row-col combination. (100, 1)\n",
        "\n",
        "# Get the number of features\n",
        "n_features = X.shape[1] # Which is two in our case because we got 2 columns\n",
        "\n",
        "# Initialize weights and biase\n",
        "w = np.zeros((n_features, 1))\n",
        "b = 0.0\n",
        "\n",
        "print(\"Initial weight:\\n\", w)\n",
        "print(\"Initial biase:\\n\", b)"
      ],
      "metadata": {
        "colab": {
          "base_uri": "https://localhost:8080/"
        },
        "id": "H406_YvbBmc3",
        "outputId": "72b6aba4-21d2-477c-f5cb-5cdcd67e8c6e"
      },
      "execution_count": 19,
      "outputs": [
        {
          "output_type": "stream",
          "name": "stdout",
          "text": [
            "Initial weight:\n",
            " [[0.]\n",
            " [0.]]\n",
            "Initial biase:\n",
            " 0.0\n"
          ]
        }
      ]
    },
    {
      "cell_type": "code",
      "source": [
        "# Coding the Sigmoid function where it will takr any linear number such as (3.5, -10, 100, 6) and squich it between (0 and 1)\n",
        "def sigmoid(z):\n",
        "  \"\"\"\n",
        "  Compute the sigmoid of z\n",
        "  z can be scalar or a NumPy array\n",
        "\n",
        "  \"\"\"\n",
        "\n",
        "  return 1 / (1 + np.exp(-z)) # np.exp(-z) e^-z\n",
        "\n",
        "\n",
        "print(sigmoid(0))\n",
        "print(sigmoid(10))\n",
        "print(sigmoid(-10))\n",
        "print(sigmoid(423))\n",
        "print(sigmoid(np.array([1, -10, 56, -5])))"
      ],
      "metadata": {
        "colab": {
          "base_uri": "https://localhost:8080/"
        },
        "id": "s0_zf0R9EULJ",
        "outputId": "dc721584-048d-4a95-c1a8-8c8662de9ebd"
      },
      "execution_count": 20,
      "outputs": [
        {
          "output_type": "stream",
          "name": "stdout",
          "text": [
            "0.5\n",
            "0.9999546021312976\n",
            "4.5397868702434395e-05\n",
            "1.0\n",
            "[7.31058579e-01 4.53978687e-05 1.00000000e+00 6.69285092e-03]\n"
          ]
        }
      ]
    },
    {
      "cell_type": "code",
      "source": [
        "# Forward Propagation aka Computing Predictions\n",
        "def predict_probability(X, w, b):\n",
        "  \"\"\"\n",
        "  Compute predicted probabilities using sigmoid(w.T * X + b)\n",
        "  X shape: (m, n)\n",
        "  w shape: (n, 1)\n",
        "  b: scalar\n",
        "  Returns: (m, 1) vector of probabilities\n",
        "  \"\"\"\n",
        "\n",
        "  z = np.dot(X, w) + b\n",
        "  return sigmoid(z)"
      ],
      "metadata": {
        "id": "rZxeFdoZKuH5"
      },
      "execution_count": 21,
      "outputs": []
    },
    {
      "cell_type": "code",
      "source": [
        "# Let's check our probabilites now\n",
        "y_hat = predict_probability(X, w, b);\n",
        "print(y_hat[:5])"
      ],
      "metadata": {
        "colab": {
          "base_uri": "https://localhost:8080/"
        },
        "id": "E-zXwTOBGqJm",
        "outputId": "79adb9fc-4a8a-499e-92d7-5fcaef6d0853"
      },
      "execution_count": 22,
      "outputs": [
        {
          "output_type": "stream",
          "name": "stdout",
          "text": [
            "[[0.5]\n",
            " [0.5]\n",
            " [0.5]\n",
            " [0.5]\n",
            " [0.5]]\n"
          ]
        }
      ]
    },
    {
      "cell_type": "code",
      "source": [
        "# Let's calculate loss fucntionhere to see the ifference between actual and predicted output\n",
        "def compute_loss(y_hat, y):\n",
        "  \"\"\"\n",
        "  Compute the binary cross-entropy loss\n",
        "  y_hat shape: (m, 1)\n",
        "  y shape: (m, 1)\n",
        "  Returns: scalar loss value\n",
        "  \"\"\"\n",
        "\n",
        "  m = y.shape[0]\n",
        "\n",
        "  # Prevent log(0) by clipping\n",
        "  epsilon = 1e-15\n",
        "  y_hat = np.clip(y_hat, epsilon, 1 - epsilon)\n",
        "\n",
        "  # Compute the loss\n",
        "  loss = -(y * np.log(y_hat) + (1 - y) * np.log(1 - y_hat))\n",
        "  return np.sum(loss) / m"
      ],
      "metadata": {
        "id": "vSRbSdWJI-yH"
      },
      "execution_count": 23,
      "outputs": []
    },
    {
      "cell_type": "code",
      "source": [
        "loss = compute_loss(y_hat, y)\n",
        "print(\"Initial loss:\", loss)"
      ],
      "metadata": {
        "colab": {
          "base_uri": "https://localhost:8080/"
        },
        "id": "rCuUtEoGKiHk",
        "outputId": "0ed1f1cf-1720-4c5a-c4c2-358a046fb397"
      },
      "execution_count": 24,
      "outputs": [
        {
          "output_type": "stream",
          "name": "stdout",
          "text": [
            "Initial loss: 0.6931471805599453\n"
          ]
        }
      ]
    },
    {
      "cell_type": "code",
      "source": [
        "# Compute gradient\n",
        "def compute_gradient(X, y, y_hat):\n",
        "  \"\"\"\n",
        "  Compute gradient of loss w.r.t weights and bias\n",
        "  Returns: dw, db\n",
        "  \"\"\"\n",
        "\n",
        "  m = X.shape[0]\n",
        "  dz = y_hat - y   # shape (m, 1)\n",
        "  dw = (1/m) * np.dot(X.T, dz) # shape (n, 1)\n",
        "  db = (1/m) * np.sum(dz)  # scalar\n",
        "\n",
        "  return dw, db"
      ],
      "metadata": {
        "id": "FJdK5hrTKqlN"
      },
      "execution_count": 25,
      "outputs": []
    },
    {
      "cell_type": "code",
      "source": [
        "dw, db = compute_gradient(X, y, y_hat)\n",
        "print(\"dw:\\n\", dw)\n",
        "print(\"db:\\n\", db)"
      ],
      "metadata": {
        "colab": {
          "base_uri": "https://localhost:8080/"
        },
        "id": "ws_3CwnFXa-d",
        "outputId": "21f5f791-730a-450f-c113-3be9c97ac8ce"
      },
      "execution_count": 26,
      "outputs": [
        {
          "output_type": "stream",
          "name": "stdout",
          "text": [
            "dw:\n",
            " [[ 25.565]\n",
            " [107.965]]\n",
            "db:\n",
            " 0.48\n"
          ]
        }
      ]
    },
    {
      "cell_type": "code",
      "source": [
        "# Gradient Descent\n",
        "def update_parameters(w, b, dw, db, learning_rate):\n",
        "  \"\"\"\n",
        "  Update weights and bias using gradient descent\n",
        "  \"\"\"\n",
        "\n",
        "  w = w - learning_rate * dw\n",
        "  b = b - learning_rate * db\n",
        "  return w, b"
      ],
      "metadata": {
        "id": "Q1fvCohyXliP"
      },
      "execution_count": 27,
      "outputs": []
    },
    {
      "cell_type": "code",
      "source": [
        "learning_rate = 0.01\n",
        "w, b = update_parameters(w, b, dw, db, learning_rate)\n",
        "\n",
        "print(\"Updated weights:\\n\", w)\n",
        "print(\"Updated biase:\\n\", b)"
      ],
      "metadata": {
        "colab": {
          "base_uri": "https://localhost:8080/"
        },
        "id": "duo4jAQGN1LY",
        "outputId": "a6411372-ba69-4168-90ce-6bfc149d48fc"
      },
      "execution_count": 28,
      "outputs": [
        {
          "output_type": "stream",
          "name": "stdout",
          "text": [
            "Updated weights:\n",
            " [[-0.25565]\n",
            " [-1.07965]]\n",
            "Updated biase:\n",
            " -0.0048\n"
          ]
        }
      ]
    },
    {
      "cell_type": "code",
      "source": [
        "# Training loop\n",
        "def train(X, y, w, b, learning_rate=0.01, epochs=1000, print_every=100):\n",
        "  losses = []\n",
        "  for i in range(epochs):\n",
        "\n",
        "    # Step 1: Forward pass aka execute mode and take some steps\n",
        "    z = np.dot(X, w) + b\n",
        "    y_hat = sigmoid(z)\n",
        "\n",
        "    # Step 2: Compute Loss\n",
        "    loss = compute_loss(y_hat, y)\n",
        "    losses.append(loss)\n",
        "\n",
        "    # Step 3: Backpropagation aka now take some steps back adn eadjust better\n",
        "    dw, db = compute_gradient(X, y, y_hat)\n",
        "\n",
        "    # Step 4: Parameter update\n",
        "    w, b = update_parameters(w, b, dw, db, learning_rate)\n",
        "\n",
        "    # Optional but good\n",
        "\n",
        "    if i % print_every == 0 or i == epochs - 1:\n",
        "      print(f\"Epoch {i}: Loss = {loss:.4f}\")\n",
        "\n",
        "  return w, b, losses\n",
        "\n",
        "\n",
        "\n"
      ],
      "metadata": {
        "id": "vWvU1gHqODXK"
      },
      "execution_count": 29,
      "outputs": []
    },
    {
      "cell_type": "code",
      "source": [
        "# Train and get the result of yout training\n",
        "w, b, losses = train(X, y, w, b, learning_rate=0.01, epochs=1000)"
      ],
      "metadata": {
        "colab": {
          "base_uri": "https://localhost:8080/"
        },
        "id": "Jrh55It7P99P",
        "outputId": "104799c0-1a59-479e-fea9-3ebfe84d2bf3"
      },
      "execution_count": 30,
      "outputs": [
        {
          "output_type": "stream",
          "name": "stdout",
          "text": [
            "Epoch 0: Loss = 0.6908\n",
            "Epoch 100: Loss = 0.2603\n",
            "Epoch 200: Loss = 0.6908\n",
            "Epoch 300: Loss = 0.6908\n",
            "Epoch 400: Loss = 0.3347\n",
            "Epoch 500: Loss = 0.6908\n",
            "Epoch 600: Loss = 0.6908\n",
            "Epoch 700: Loss = 0.6908\n",
            "Epoch 800: Loss = 0.6908\n",
            "Epoch 900: Loss = 0.6908\n",
            "Epoch 999: Loss = 0.6908\n"
          ]
        }
      ]
    },
    {
      "cell_type": "code",
      "source": [
        "def predict(X, w, b, threshold=0.5):\n",
        "    \"\"\"\n",
        "    Predict 0 or 1 using trained weights and bias\n",
        "    \"\"\"\n",
        "    probs = sigmoid(np.dot(X, w) + b)\n",
        "    return (probs >= threshold).astype(int)\n",
        "\n",
        "def accuracy(y_pred, y_true):\n",
        "    \"\"\"\n",
        "    Compute accuracy % between predictions and actual labels\n",
        "    \"\"\"\n",
        "    return np.mean(y_pred == y_true) * 100\n"
      ],
      "metadata": {
        "id": "LBuAoCgSQyTe"
      },
      "execution_count": 31,
      "outputs": []
    },
    {
      "cell_type": "code",
      "source": [
        "y_pred = predict(X, w, b)\n",
        "acc = accuracy(y_pred, y)\n",
        "\n",
        "print(\"Predictions:\\n\", y_pred[:10].ravel())  # first 10\n",
        "print(\"True labels:\\n\", y[:10].ravel())\n",
        "print(f\"Accuracy: {acc:.2f}%\")\n"
      ],
      "metadata": {
        "colab": {
          "base_uri": "https://localhost:8080/"
        },
        "id": "kSWwvuDPSspf",
        "outputId": "b7a9f1ec-ce12-440f-dbff-c204bd2e4798"
      },
      "execution_count": 32,
      "outputs": [
        {
          "output_type": "stream",
          "name": "stdout",
          "text": [
            "Predictions:\n",
            " [0 0 0 0 0 0 0 0 0 0]\n",
            "True labels:\n",
            " [0 0 0 0 0 0 0 0 0 0]\n",
            "Accuracy: 98.00%\n"
          ]
        }
      ]
    },
    {
      "cell_type": "code",
      "source": [],
      "metadata": {
        "id": "GSEdL7s8SvFA"
      },
      "execution_count": null,
      "outputs": []
    }
  ]
}